{
 "cells": [
  {
   "cell_type": "markdown",
   "id": "1cfb1e9e-27df-443b-afb4-637c021b69ea",
   "metadata": {},
   "source": [
    "# LULC"
   ]
  },
  {
   "cell_type": "code",
   "execution_count": 1,
   "id": "34fd4b7f-ced4-42fd-bfb7-5a9af3b00ec2",
   "metadata": {},
   "outputs": [],
   "source": [
    "# IMPORTS AND RANDOM SEEDS\n",
    "import rasterio\n",
    "import rasterio.plot\n",
    "from rasterio.mask import mask\n",
    "from rasterio.plot import reshape_as_image\n",
    "import matplotlib.pyplot as plt\n",
    "\n",
    "import geopandas as gpd\n",
    "import numpy as np\n",
    "import pandas as pd\n",
    "\n",
    "from sklearn.model_selection import train_test_split\n",
    "from sklearn.utils.class_weight import compute_class_weight\n",
    "\n",
    "import tensorflow as tf\n",
    "from tensorflow.keras.utils import to_categorical\n",
    "from tensorflow.keras.callbacks import EarlyStopping\n",
    "\n",
    "from patchify import unpatchify\n",
    "from patchify import patchify\n",
    "\n",
    "RNG_SEED = 42\n",
    "np.random.seed(RNG_SEED)\n",
    "tf.random.set_seed(RNG_SEED)"
   ]
  },
  {
   "cell_type": "code",
   "execution_count": 2,
   "id": "561b6db9-ecda-42d5-b8d2-4d9ea20abf75",
   "metadata": {},
   "outputs": [],
   "source": [
    "# QoL Settings\n",
    "debug = 0\n",
    "optional_visuals = 0"
   ]
  },
  {
   "cell_type": "code",
   "execution_count": 3,
   "id": "506c21f1-cf5d-4b5e-a357-2e24e1afc6cb",
   "metadata": {},
   "outputs": [],
   "source": [
    "patch_size = 128      # Size to split each training image into\n",
    "patch_step = 32       # Amount to step when splitting up images for training (<size means some overlap)\n",
    "\n",
    "percent_augment = 1   # Amount of the training data set to randomly augment (brightness, orientation)\n",
    "\n",
    "epochs = 150          # Epochs of training for the CNN (early stopping is enabled)"
   ]
  },
  {
   "cell_type": "markdown",
   "id": "4b4da8fa-ee33-48f9-bb5c-999965b0e0a1",
   "metadata": {},
   "source": [
    "## Data Import"
   ]
  },
  {
   "cell_type": "code",
   "execution_count": 4,
   "id": "924a17dc-2529-43ef-83d4-0d1fc4c1d297",
   "metadata": {},
   "outputs": [],
   "source": [
    "full_image_path = \"input/aerial_scaled.tif\"  # Aerial raster of entire area to be classified\n",
    "labels_aerial_path = \"input/aerial_512.tif\" # Aerial raster of just labelled data\n",
    "labels_classes_path = \"input/labels_raster_512.tif\" # Class raster of labelled data"
   ]
  },
  {
   "cell_type": "code",
   "execution_count": 5,
   "id": "73e3bb3b-fa21-49f7-8bea-0eba62a094c9",
   "metadata": {},
   "outputs": [
    {
     "name": "stdout",
     "output_type": "stream",
     "text": [
      "Full Image shape: (3, 1280, 1536)\n",
      "Labels Aerial shape: (3, 512, 512)\n",
      "Labels Classes shape: (512, 512)\n"
     ]
    }
   ],
   "source": [
    "# Load Full Image Aerial\n",
    "with rasterio.open(full_image_path) as src:\n",
    "    full_image_raw = src.read()  # Read all bands\n",
    "    full_image_meta = src.profile\n",
    "\n",
    "# Load Classes Raster of Labelled Sample\n",
    "with rasterio.open(labels_classes_path) as src:\n",
    "    labels_classes_raw = src.read(1)  # Read the first (or only) band\n",
    "    labels_classes_meta = src.profile\n",
    "\n",
    "# Load Aerial Raster of Labelled Sample\n",
    "with rasterio.open(labels_aerial_path) as src:\n",
    "    labels_aerial_raw = src.read()\n",
    "    labels_aerial_meta = src.profile\n",
    "\n",
    "# Normalize images\n",
    "full_image = full_image_raw.astype(np.float32) / 255.0  # Normalize to 0-1 range\n",
    "labels_aerial = labels_aerial_raw.astype(np.float32) / 255.0 \n",
    "\n",
    "# Print shapes\n",
    "print(\"Full Image shape:\", full_image.shape)  # Should be (Bands, Height, Width)\n",
    "print(\"Labels Aerial shape:\", labels_aerial.shape)\n",
    "print(\"Labels Classes shape:\", labels_classes_raw.shape)  # Should be (Height, Width)"
   ]
  },
  {
   "cell_type": "markdown",
   "id": "18bd91d4-faeb-4074-b2fe-95610a6861fc",
   "metadata": {},
   "source": [
    "#### ***Optional:*** *Visualize full aerial and labelled data*"
   ]
  },
  {
   "cell_type": "code",
   "execution_count": 6,
   "id": "8c7fd393-9e70-4d72-aa3b-7b206cadb92b",
   "metadata": {
    "scrolled": true
   },
   "outputs": [],
   "source": [
    "if optional_visuals:\n",
    "    # Visualize full image\n",
    "    rasterio.plot.show(full_image)\n",
    "\n",
    "    # Visualize lablled aerial and classes\n",
    "    fig, ax = plt.subplots(1,2)\n",
    "    ax[0].imshow(reshape_as_image(labels_aerial))\n",
    "    ax[1].imshow(labels_classes_raw)"
   ]
  },
  {
   "cell_type": "markdown",
   "id": "adb71ee6-ffb1-43d4-84d4-6f7811bdc27b",
   "metadata": {},
   "source": [
    "## Data Preparation\n",
    "### Convert Class Labels to Categorical (One-Hot Encoded)"
   ]
  },
  {
   "cell_type": "code",
   "execution_count": 7,
   "id": "39631e16-9493-4d77-93f0-92340f4871c9",
   "metadata": {},
   "outputs": [
    {
     "name": "stdout",
     "output_type": "stream",
     "text": [
      "Encoded 4 classes\n"
     ]
    }
   ],
   "source": [
    "# SHIFT LABELS\n",
    "# Classes are 1-indexed, need them 0-indexed                   # 0 building, 1 road, 2 vegetation, 3 alley/sidewalk/pavement\n",
    "labels_classes_shifted = labels_classes_raw - 1\n",
    "\n",
    "# ENCODE LABLES\n",
    "num_classes = len(np.unique(labels_classes_shifted))\n",
    "labels_classes = to_categorical(labels_classes_shifted, num_classes=num_classes)\n",
    "\n",
    "print(f\"Encoded {num_classes} classes\") "
   ]
  },
  {
   "cell_type": "markdown",
   "id": "51910bd9-eaab-48a4-ae7f-ffb4ecbdbc32",
   "metadata": {},
   "source": [
    "### Split Training and Testing Data"
   ]
  },
  {
   "cell_type": "code",
   "execution_count": 8,
   "id": "7336b260-e103-4545-aea3-41b350d0d067",
   "metadata": {},
   "outputs": [
    {
     "name": "stdout",
     "output_type": "stream",
     "text": [
      "labels_aerial_train: (3, 512, 384), labels_classes_train: (512, 384, 4)\n",
      "labels_aerial_test: (3, 512, 128),  labels_classes_test: (512, 128, 4)\n"
     ]
    }
   ],
   "source": [
    "# TRAIN TEST SPLIT\n",
    "split_x = int(labels_classes.shape[1] * 0.75) \n",
    "\n",
    "# Crop aerial and labels into train and test regions\n",
    "labels_classes_train = labels_classes[:, :split_x]  \n",
    "labels_classes_test = labels_classes[:, split_x:]  \n",
    "\n",
    "labels_aerial_train = labels_aerial[:, :, :split_x]  \n",
    "labels_aerial_test = labels_aerial[:, :, split_x:] \n",
    "\n",
    "print(f\"labels_aerial_train: {labels_aerial_train.shape}, labels_classes_train: {labels_classes_train.shape}\")\n",
    "print(f\"labels_aerial_test: {labels_aerial_test.shape},  labels_classes_test: {labels_classes_test.shape}\")"
   ]
  },
  {
   "cell_type": "markdown",
   "id": "c13056a2-355e-4795-aef9-9b5f7a181d85",
   "metadata": {},
   "source": [
    "### Create Image Patches"
   ]
  },
  {
   "cell_type": "code",
   "execution_count": 9,
   "id": "6525d751-33b5-446e-9207-fbe59e22a5ab",
   "metadata": {},
   "outputs": [
    {
     "name": "stdout",
     "output_type": "stream",
     "text": [
      "New Train set - X: (117, 128, 128, 3), Y: (117, 128, 128, 4)\n",
      "New Test set -  X: (13, 128, 128, 3),  Y: (13, 128, 128, 4)\n"
     ]
    }
   ],
   "source": [
    "# CREATE OVERLAPPING PATCHES\n",
    "# Patchify separately for train and test to prevent data leakage\n",
    "patches_classes_train = patchify(labels_classes_train, (patch_size, patch_size, num_classes), step=patch_step)\n",
    "patches_classes_test = patchify(labels_classes_test, (patch_size, patch_size, num_classes), step=patch_step)\n",
    "\n",
    "patches_aerial_train = patchify(labels_aerial_train, (3, patch_size, patch_size), step=patch_step)[0]\n",
    "patches_aerial_test = patchify(labels_aerial_test, (3, patch_size, patch_size), step=patch_step)[0]\n",
    "\n",
    "# Reshape patches into lists\n",
    "X_train_orig = patches_aerial_train.reshape(-1, 3, patch_size, patch_size)\n",
    "X_train_orig = np.transpose(X_train_orig, (0, 2, 3, 1))\n",
    "\n",
    "Y_train_orig = patches_classes_train.reshape(-1, patch_size, patch_size, num_classes)\n",
    "\n",
    "X_test = patches_aerial_test.reshape(-1, 3, patch_size, patch_size)\n",
    "X_test = np.transpose(X_test, (0, 2, 3, 1))\n",
    "\n",
    "Y_test = patches_classes_test.reshape(-1, patch_size, patch_size, num_classes)\n",
    "\n",
    "print(f\"New Train set - X: {X_train_orig.shape}, Y: {Y_train_orig.shape}\")\n",
    "print(f\"New Test set -  X: {X_test.shape},  Y: {Y_test.shape}\")"
   ]
  },
  {
   "cell_type": "markdown",
   "id": "18b63868-0a8b-443a-b595-21b4753be1d4",
   "metadata": {},
   "source": [
    "#### ***Optional:*** *Visualize patches*"
   ]
  },
  {
   "cell_type": "code",
   "execution_count": 10,
   "id": "6bc93c56-77dc-450e-b370-576ef87aab13",
   "metadata": {
    "jupyter": {
     "source_hidden": true
    },
    "scrolled": true
   },
   "outputs": [],
   "source": [
    "patches_to_show = 4 # How many patches to show (<20 recommended)\n",
    "\n",
    "if optional_visuals:    \n",
    "    shown = 0\n",
    "    num_patches = X_train.shape[0]\n",
    "\n",
    "    # Visulaize aerial raster and class raster patches next to each other\n",
    "    while shown < min(patches_to_show, num_patches):    \n",
    "        fig, ax = plt.subplots(1, 2, figsize=(10,10))\n",
    "        ax[0].imshow(X_train[shown])\n",
    "        ax[1].imshow(Y_train[shown])\n",
    "\n",
    "        shown += 1"
   ]
  },
  {
   "cell_type": "markdown",
   "id": "f80ad63e-5080-4470-ba6e-e0a7d46c3097",
   "metadata": {},
   "source": [
    "### Data Augmentation"
   ]
  },
  {
   "cell_type": "code",
   "execution_count": 11,
   "id": "cd7e3a76-d801-4acb-ab5a-3fd0c07e1cc2",
   "metadata": {},
   "outputs": [],
   "source": [
    "def augment(image, label, brightness_factor=0.5, flip_prob=0.5):\n",
    "    # Random brightness\n",
    "    image = tf.image.random_brightness(image, max_delta=brightness_factor)\n",
    "\n",
    "    # Random horizontal flipping\n",
    "    if tf.random.uniform([]) < flip_prob:\n",
    "        image = tf.image.flip_left_right(image)\n",
    "\n",
    "    return image, label"
   ]
  },
  {
   "cell_type": "code",
   "execution_count": 12,
   "id": "dbe95ddd-2e1a-4296-a41f-a9699f0816cf",
   "metadata": {},
   "outputs": [
    {
     "name": "stdout",
     "output_type": "stream",
     "text": [
      "Added 117 augmented images. New training total: 234\n"
     ]
    }
   ],
   "source": [
    "# Randomly select indices for augmentation\n",
    "num_aug_samples = int(percent_augment * X_train_orig.shape[0])\n",
    "augment_indices = np.random.choice(X_train_orig.shape[0], num_aug_samples, replace=False)\n",
    "\n",
    "# Apply augmentation\n",
    "X_aug = []\n",
    "Y_aug = []\n",
    "for idx in augment_indices:\n",
    "    new_image, new_label = augment(X_train_orig[idx], Y_train_orig[idx])\n",
    "    X_aug.append(np.array(new_image))  \n",
    "    Y_aug.append(np.array(new_label))\n",
    "\n",
    "# Convert to NumPy and concatenate with original dataset\n",
    "X_aug = np.array(X_aug)\n",
    "Y_aug = np.array(Y_aug)\n",
    "\n",
    "X_train = np.concatenate([X_train_orig, X_aug], axis=0)\n",
    "Y_train = np.concatenate([Y_train_orig, Y_aug], axis=0)\n",
    "\n",
    "print(f\"Added {num_aug_samples} augmented images. New training total: {X_train.shape[0]}\")"
   ]
  },
  {
   "cell_type": "markdown",
   "id": "7ea448ee-b2e1-4f01-af63-982256c2fe4a",
   "metadata": {},
   "source": [
    "## Build CNN Model\n"
   ]
  },
  {
   "cell_type": "code",
   "execution_count": 13,
   "id": "a6846233-ea19-4fce-8820-b6f841045193",
   "metadata": {},
   "outputs": [
    {
     "name": "stderr",
     "output_type": "stream",
     "text": [
      "C:\\Users\\Connor\\Documents\\Code\\QGIS\\to-lulc-aiml\\.venv\\Lib\\site-packages\\keras\\src\\layers\\convolutional\\base_conv.py:107: UserWarning: Do not pass an `input_shape`/`input_dim` argument to a layer. When using Sequential models, prefer using an `Input(shape)` object as the first layer in the model instead.\n",
      "  super().__init__(activity_regularizer=activity_regularizer, **kwargs)\n"
     ]
    },
    {
     "data": {
      "text/html": [
       "<pre style=\"white-space:pre;overflow-x:auto;line-height:normal;font-family:Menlo,'DejaVu Sans Mono',consolas,'Courier New',monospace\"><span style=\"font-weight: bold\">Model: \"sequential\"</span>\n",
       "</pre>\n"
      ],
      "text/plain": [
       "\u001b[1mModel: \"sequential\"\u001b[0m\n"
      ]
     },
     "metadata": {},
     "output_type": "display_data"
    },
    {
     "data": {
      "text/html": [
       "<pre style=\"white-space:pre;overflow-x:auto;line-height:normal;font-family:Menlo,'DejaVu Sans Mono',consolas,'Courier New',monospace\">┏━━━━━━━━━━━━━━━━━━━━━━━━━━━━━━━━━━━━━━┳━━━━━━━━━━━━━━━━━━━━━━━━━━━━━┳━━━━━━━━━━━━━━━━━┓\n",
       "┃<span style=\"font-weight: bold\"> Layer (type)                         </span>┃<span style=\"font-weight: bold\"> Output Shape                </span>┃<span style=\"font-weight: bold\">         Param # </span>┃\n",
       "┡━━━━━━━━━━━━━━━━━━━━━━━━━━━━━━━━━━━━━━╇━━━━━━━━━━━━━━━━━━━━━━━━━━━━━╇━━━━━━━━━━━━━━━━━┩\n",
       "│ conv2d (<span style=\"color: #0087ff; text-decoration-color: #0087ff\">Conv2D</span>)                      │ (<span style=\"color: #00d7ff; text-decoration-color: #00d7ff\">None</span>, <span style=\"color: #00af00; text-decoration-color: #00af00\">128</span>, <span style=\"color: #00af00; text-decoration-color: #00af00\">128</span>, <span style=\"color: #00af00; text-decoration-color: #00af00\">32</span>)        │             <span style=\"color: #00af00; text-decoration-color: #00af00\">896</span> │\n",
       "├──────────────────────────────────────┼─────────────────────────────┼─────────────────┤\n",
       "│ max_pooling2d (<span style=\"color: #0087ff; text-decoration-color: #0087ff\">MaxPooling2D</span>)         │ (<span style=\"color: #00d7ff; text-decoration-color: #00d7ff\">None</span>, <span style=\"color: #00af00; text-decoration-color: #00af00\">64</span>, <span style=\"color: #00af00; text-decoration-color: #00af00\">64</span>, <span style=\"color: #00af00; text-decoration-color: #00af00\">32</span>)          │               <span style=\"color: #00af00; text-decoration-color: #00af00\">0</span> │\n",
       "├──────────────────────────────────────┼─────────────────────────────┼─────────────────┤\n",
       "│ conv2d_1 (<span style=\"color: #0087ff; text-decoration-color: #0087ff\">Conv2D</span>)                    │ (<span style=\"color: #00d7ff; text-decoration-color: #00d7ff\">None</span>, <span style=\"color: #00af00; text-decoration-color: #00af00\">64</span>, <span style=\"color: #00af00; text-decoration-color: #00af00\">64</span>, <span style=\"color: #00af00; text-decoration-color: #00af00\">64</span>)          │          <span style=\"color: #00af00; text-decoration-color: #00af00\">18,496</span> │\n",
       "├──────────────────────────────────────┼─────────────────────────────┼─────────────────┤\n",
       "│ max_pooling2d_1 (<span style=\"color: #0087ff; text-decoration-color: #0087ff\">MaxPooling2D</span>)       │ (<span style=\"color: #00d7ff; text-decoration-color: #00d7ff\">None</span>, <span style=\"color: #00af00; text-decoration-color: #00af00\">32</span>, <span style=\"color: #00af00; text-decoration-color: #00af00\">32</span>, <span style=\"color: #00af00; text-decoration-color: #00af00\">64</span>)          │               <span style=\"color: #00af00; text-decoration-color: #00af00\">0</span> │\n",
       "├──────────────────────────────────────┼─────────────────────────────┼─────────────────┤\n",
       "│ conv2d_2 (<span style=\"color: #0087ff; text-decoration-color: #0087ff\">Conv2D</span>)                    │ (<span style=\"color: #00d7ff; text-decoration-color: #00d7ff\">None</span>, <span style=\"color: #00af00; text-decoration-color: #00af00\">32</span>, <span style=\"color: #00af00; text-decoration-color: #00af00\">32</span>, <span style=\"color: #00af00; text-decoration-color: #00af00\">128</span>)         │          <span style=\"color: #00af00; text-decoration-color: #00af00\">73,856</span> │\n",
       "├──────────────────────────────────────┼─────────────────────────────┼─────────────────┤\n",
       "│ max_pooling2d_2 (<span style=\"color: #0087ff; text-decoration-color: #0087ff\">MaxPooling2D</span>)       │ (<span style=\"color: #00d7ff; text-decoration-color: #00d7ff\">None</span>, <span style=\"color: #00af00; text-decoration-color: #00af00\">16</span>, <span style=\"color: #00af00; text-decoration-color: #00af00\">16</span>, <span style=\"color: #00af00; text-decoration-color: #00af00\">128</span>)         │               <span style=\"color: #00af00; text-decoration-color: #00af00\">0</span> │\n",
       "├──────────────────────────────────────┼─────────────────────────────┼─────────────────┤\n",
       "│ conv2d_3 (<span style=\"color: #0087ff; text-decoration-color: #0087ff\">Conv2D</span>)                    │ (<span style=\"color: #00d7ff; text-decoration-color: #00d7ff\">None</span>, <span style=\"color: #00af00; text-decoration-color: #00af00\">16</span>, <span style=\"color: #00af00; text-decoration-color: #00af00\">16</span>, <span style=\"color: #00af00; text-decoration-color: #00af00\">256</span>)         │         <span style=\"color: #00af00; text-decoration-color: #00af00\">295,168</span> │\n",
       "├──────────────────────────────────────┼─────────────────────────────┼─────────────────┤\n",
       "│ max_pooling2d_3 (<span style=\"color: #0087ff; text-decoration-color: #0087ff\">MaxPooling2D</span>)       │ (<span style=\"color: #00d7ff; text-decoration-color: #00d7ff\">None</span>, <span style=\"color: #00af00; text-decoration-color: #00af00\">8</span>, <span style=\"color: #00af00; text-decoration-color: #00af00\">8</span>, <span style=\"color: #00af00; text-decoration-color: #00af00\">256</span>)           │               <span style=\"color: #00af00; text-decoration-color: #00af00\">0</span> │\n",
       "├──────────────────────────────────────┼─────────────────────────────┼─────────────────┤\n",
       "│ conv2d_4 (<span style=\"color: #0087ff; text-decoration-color: #0087ff\">Conv2D</span>)                    │ (<span style=\"color: #00d7ff; text-decoration-color: #00d7ff\">None</span>, <span style=\"color: #00af00; text-decoration-color: #00af00\">8</span>, <span style=\"color: #00af00; text-decoration-color: #00af00\">8</span>, <span style=\"color: #00af00; text-decoration-color: #00af00\">256</span>)           │         <span style=\"color: #00af00; text-decoration-color: #00af00\">590,080</span> │\n",
       "├──────────────────────────────────────┼─────────────────────────────┼─────────────────┤\n",
       "│ up_sampling2d (<span style=\"color: #0087ff; text-decoration-color: #0087ff\">UpSampling2D</span>)         │ (<span style=\"color: #00d7ff; text-decoration-color: #00d7ff\">None</span>, <span style=\"color: #00af00; text-decoration-color: #00af00\">16</span>, <span style=\"color: #00af00; text-decoration-color: #00af00\">16</span>, <span style=\"color: #00af00; text-decoration-color: #00af00\">256</span>)         │               <span style=\"color: #00af00; text-decoration-color: #00af00\">0</span> │\n",
       "├──────────────────────────────────────┼─────────────────────────────┼─────────────────┤\n",
       "│ conv2d_5 (<span style=\"color: #0087ff; text-decoration-color: #0087ff\">Conv2D</span>)                    │ (<span style=\"color: #00d7ff; text-decoration-color: #00d7ff\">None</span>, <span style=\"color: #00af00; text-decoration-color: #00af00\">16</span>, <span style=\"color: #00af00; text-decoration-color: #00af00\">16</span>, <span style=\"color: #00af00; text-decoration-color: #00af00\">128</span>)         │         <span style=\"color: #00af00; text-decoration-color: #00af00\">295,040</span> │\n",
       "├──────────────────────────────────────┼─────────────────────────────┼─────────────────┤\n",
       "│ up_sampling2d_1 (<span style=\"color: #0087ff; text-decoration-color: #0087ff\">UpSampling2D</span>)       │ (<span style=\"color: #00d7ff; text-decoration-color: #00d7ff\">None</span>, <span style=\"color: #00af00; text-decoration-color: #00af00\">32</span>, <span style=\"color: #00af00; text-decoration-color: #00af00\">32</span>, <span style=\"color: #00af00; text-decoration-color: #00af00\">128</span>)         │               <span style=\"color: #00af00; text-decoration-color: #00af00\">0</span> │\n",
       "├──────────────────────────────────────┼─────────────────────────────┼─────────────────┤\n",
       "│ conv2d_6 (<span style=\"color: #0087ff; text-decoration-color: #0087ff\">Conv2D</span>)                    │ (<span style=\"color: #00d7ff; text-decoration-color: #00d7ff\">None</span>, <span style=\"color: #00af00; text-decoration-color: #00af00\">32</span>, <span style=\"color: #00af00; text-decoration-color: #00af00\">32</span>, <span style=\"color: #00af00; text-decoration-color: #00af00\">64</span>)          │          <span style=\"color: #00af00; text-decoration-color: #00af00\">73,792</span> │\n",
       "├──────────────────────────────────────┼─────────────────────────────┼─────────────────┤\n",
       "│ up_sampling2d_2 (<span style=\"color: #0087ff; text-decoration-color: #0087ff\">UpSampling2D</span>)       │ (<span style=\"color: #00d7ff; text-decoration-color: #00d7ff\">None</span>, <span style=\"color: #00af00; text-decoration-color: #00af00\">64</span>, <span style=\"color: #00af00; text-decoration-color: #00af00\">64</span>, <span style=\"color: #00af00; text-decoration-color: #00af00\">64</span>)          │               <span style=\"color: #00af00; text-decoration-color: #00af00\">0</span> │\n",
       "├──────────────────────────────────────┼─────────────────────────────┼─────────────────┤\n",
       "│ conv2d_7 (<span style=\"color: #0087ff; text-decoration-color: #0087ff\">Conv2D</span>)                    │ (<span style=\"color: #00d7ff; text-decoration-color: #00d7ff\">None</span>, <span style=\"color: #00af00; text-decoration-color: #00af00\">64</span>, <span style=\"color: #00af00; text-decoration-color: #00af00\">64</span>, <span style=\"color: #00af00; text-decoration-color: #00af00\">32</span>)          │          <span style=\"color: #00af00; text-decoration-color: #00af00\">18,464</span> │\n",
       "├──────────────────────────────────────┼─────────────────────────────┼─────────────────┤\n",
       "│ up_sampling2d_3 (<span style=\"color: #0087ff; text-decoration-color: #0087ff\">UpSampling2D</span>)       │ (<span style=\"color: #00d7ff; text-decoration-color: #00d7ff\">None</span>, <span style=\"color: #00af00; text-decoration-color: #00af00\">128</span>, <span style=\"color: #00af00; text-decoration-color: #00af00\">128</span>, <span style=\"color: #00af00; text-decoration-color: #00af00\">32</span>)        │               <span style=\"color: #00af00; text-decoration-color: #00af00\">0</span> │\n",
       "├──────────────────────────────────────┼─────────────────────────────┼─────────────────┤\n",
       "│ conv2d_8 (<span style=\"color: #0087ff; text-decoration-color: #0087ff\">Conv2D</span>)                    │ (<span style=\"color: #00d7ff; text-decoration-color: #00d7ff\">None</span>, <span style=\"color: #00af00; text-decoration-color: #00af00\">128</span>, <span style=\"color: #00af00; text-decoration-color: #00af00\">128</span>, <span style=\"color: #00af00; text-decoration-color: #00af00\">4</span>)         │             <span style=\"color: #00af00; text-decoration-color: #00af00\">132</span> │\n",
       "└──────────────────────────────────────┴─────────────────────────────┴─────────────────┘\n",
       "</pre>\n"
      ],
      "text/plain": [
       "┏━━━━━━━━━━━━━━━━━━━━━━━━━━━━━━━━━━━━━━┳━━━━━━━━━━━━━━━━━━━━━━━━━━━━━┳━━━━━━━━━━━━━━━━━┓\n",
       "┃\u001b[1m \u001b[0m\u001b[1mLayer (type)                        \u001b[0m\u001b[1m \u001b[0m┃\u001b[1m \u001b[0m\u001b[1mOutput Shape               \u001b[0m\u001b[1m \u001b[0m┃\u001b[1m \u001b[0m\u001b[1m        Param #\u001b[0m\u001b[1m \u001b[0m┃\n",
       "┡━━━━━━━━━━━━━━━━━━━━━━━━━━━━━━━━━━━━━━╇━━━━━━━━━━━━━━━━━━━━━━━━━━━━━╇━━━━━━━━━━━━━━━━━┩\n",
       "│ conv2d (\u001b[38;5;33mConv2D\u001b[0m)                      │ (\u001b[38;5;45mNone\u001b[0m, \u001b[38;5;34m128\u001b[0m, \u001b[38;5;34m128\u001b[0m, \u001b[38;5;34m32\u001b[0m)        │             \u001b[38;5;34m896\u001b[0m │\n",
       "├──────────────────────────────────────┼─────────────────────────────┼─────────────────┤\n",
       "│ max_pooling2d (\u001b[38;5;33mMaxPooling2D\u001b[0m)         │ (\u001b[38;5;45mNone\u001b[0m, \u001b[38;5;34m64\u001b[0m, \u001b[38;5;34m64\u001b[0m, \u001b[38;5;34m32\u001b[0m)          │               \u001b[38;5;34m0\u001b[0m │\n",
       "├──────────────────────────────────────┼─────────────────────────────┼─────────────────┤\n",
       "│ conv2d_1 (\u001b[38;5;33mConv2D\u001b[0m)                    │ (\u001b[38;5;45mNone\u001b[0m, \u001b[38;5;34m64\u001b[0m, \u001b[38;5;34m64\u001b[0m, \u001b[38;5;34m64\u001b[0m)          │          \u001b[38;5;34m18,496\u001b[0m │\n",
       "├──────────────────────────────────────┼─────────────────────────────┼─────────────────┤\n",
       "│ max_pooling2d_1 (\u001b[38;5;33mMaxPooling2D\u001b[0m)       │ (\u001b[38;5;45mNone\u001b[0m, \u001b[38;5;34m32\u001b[0m, \u001b[38;5;34m32\u001b[0m, \u001b[38;5;34m64\u001b[0m)          │               \u001b[38;5;34m0\u001b[0m │\n",
       "├──────────────────────────────────────┼─────────────────────────────┼─────────────────┤\n",
       "│ conv2d_2 (\u001b[38;5;33mConv2D\u001b[0m)                    │ (\u001b[38;5;45mNone\u001b[0m, \u001b[38;5;34m32\u001b[0m, \u001b[38;5;34m32\u001b[0m, \u001b[38;5;34m128\u001b[0m)         │          \u001b[38;5;34m73,856\u001b[0m │\n",
       "├──────────────────────────────────────┼─────────────────────────────┼─────────────────┤\n",
       "│ max_pooling2d_2 (\u001b[38;5;33mMaxPooling2D\u001b[0m)       │ (\u001b[38;5;45mNone\u001b[0m, \u001b[38;5;34m16\u001b[0m, \u001b[38;5;34m16\u001b[0m, \u001b[38;5;34m128\u001b[0m)         │               \u001b[38;5;34m0\u001b[0m │\n",
       "├──────────────────────────────────────┼─────────────────────────────┼─────────────────┤\n",
       "│ conv2d_3 (\u001b[38;5;33mConv2D\u001b[0m)                    │ (\u001b[38;5;45mNone\u001b[0m, \u001b[38;5;34m16\u001b[0m, \u001b[38;5;34m16\u001b[0m, \u001b[38;5;34m256\u001b[0m)         │         \u001b[38;5;34m295,168\u001b[0m │\n",
       "├──────────────────────────────────────┼─────────────────────────────┼─────────────────┤\n",
       "│ max_pooling2d_3 (\u001b[38;5;33mMaxPooling2D\u001b[0m)       │ (\u001b[38;5;45mNone\u001b[0m, \u001b[38;5;34m8\u001b[0m, \u001b[38;5;34m8\u001b[0m, \u001b[38;5;34m256\u001b[0m)           │               \u001b[38;5;34m0\u001b[0m │\n",
       "├──────────────────────────────────────┼─────────────────────────────┼─────────────────┤\n",
       "│ conv2d_4 (\u001b[38;5;33mConv2D\u001b[0m)                    │ (\u001b[38;5;45mNone\u001b[0m, \u001b[38;5;34m8\u001b[0m, \u001b[38;5;34m8\u001b[0m, \u001b[38;5;34m256\u001b[0m)           │         \u001b[38;5;34m590,080\u001b[0m │\n",
       "├──────────────────────────────────────┼─────────────────────────────┼─────────────────┤\n",
       "│ up_sampling2d (\u001b[38;5;33mUpSampling2D\u001b[0m)         │ (\u001b[38;5;45mNone\u001b[0m, \u001b[38;5;34m16\u001b[0m, \u001b[38;5;34m16\u001b[0m, \u001b[38;5;34m256\u001b[0m)         │               \u001b[38;5;34m0\u001b[0m │\n",
       "├──────────────────────────────────────┼─────────────────────────────┼─────────────────┤\n",
       "│ conv2d_5 (\u001b[38;5;33mConv2D\u001b[0m)                    │ (\u001b[38;5;45mNone\u001b[0m, \u001b[38;5;34m16\u001b[0m, \u001b[38;5;34m16\u001b[0m, \u001b[38;5;34m128\u001b[0m)         │         \u001b[38;5;34m295,040\u001b[0m │\n",
       "├──────────────────────────────────────┼─────────────────────────────┼─────────────────┤\n",
       "│ up_sampling2d_1 (\u001b[38;5;33mUpSampling2D\u001b[0m)       │ (\u001b[38;5;45mNone\u001b[0m, \u001b[38;5;34m32\u001b[0m, \u001b[38;5;34m32\u001b[0m, \u001b[38;5;34m128\u001b[0m)         │               \u001b[38;5;34m0\u001b[0m │\n",
       "├──────────────────────────────────────┼─────────────────────────────┼─────────────────┤\n",
       "│ conv2d_6 (\u001b[38;5;33mConv2D\u001b[0m)                    │ (\u001b[38;5;45mNone\u001b[0m, \u001b[38;5;34m32\u001b[0m, \u001b[38;5;34m32\u001b[0m, \u001b[38;5;34m64\u001b[0m)          │          \u001b[38;5;34m73,792\u001b[0m │\n",
       "├──────────────────────────────────────┼─────────────────────────────┼─────────────────┤\n",
       "│ up_sampling2d_2 (\u001b[38;5;33mUpSampling2D\u001b[0m)       │ (\u001b[38;5;45mNone\u001b[0m, \u001b[38;5;34m64\u001b[0m, \u001b[38;5;34m64\u001b[0m, \u001b[38;5;34m64\u001b[0m)          │               \u001b[38;5;34m0\u001b[0m │\n",
       "├──────────────────────────────────────┼─────────────────────────────┼─────────────────┤\n",
       "│ conv2d_7 (\u001b[38;5;33mConv2D\u001b[0m)                    │ (\u001b[38;5;45mNone\u001b[0m, \u001b[38;5;34m64\u001b[0m, \u001b[38;5;34m64\u001b[0m, \u001b[38;5;34m32\u001b[0m)          │          \u001b[38;5;34m18,464\u001b[0m │\n",
       "├──────────────────────────────────────┼─────────────────────────────┼─────────────────┤\n",
       "│ up_sampling2d_3 (\u001b[38;5;33mUpSampling2D\u001b[0m)       │ (\u001b[38;5;45mNone\u001b[0m, \u001b[38;5;34m128\u001b[0m, \u001b[38;5;34m128\u001b[0m, \u001b[38;5;34m32\u001b[0m)        │               \u001b[38;5;34m0\u001b[0m │\n",
       "├──────────────────────────────────────┼─────────────────────────────┼─────────────────┤\n",
       "│ conv2d_8 (\u001b[38;5;33mConv2D\u001b[0m)                    │ (\u001b[38;5;45mNone\u001b[0m, \u001b[38;5;34m128\u001b[0m, \u001b[38;5;34m128\u001b[0m, \u001b[38;5;34m4\u001b[0m)         │             \u001b[38;5;34m132\u001b[0m │\n",
       "└──────────────────────────────────────┴─────────────────────────────┴─────────────────┘\n"
      ]
     },
     "metadata": {},
     "output_type": "display_data"
    },
    {
     "data": {
      "text/html": [
       "<pre style=\"white-space:pre;overflow-x:auto;line-height:normal;font-family:Menlo,'DejaVu Sans Mono',consolas,'Courier New',monospace\"><span style=\"font-weight: bold\"> Total params: </span><span style=\"color: #00af00; text-decoration-color: #00af00\">1,365,924</span> (5.21 MB)\n",
       "</pre>\n"
      ],
      "text/plain": [
       "\u001b[1m Total params: \u001b[0m\u001b[38;5;34m1,365,924\u001b[0m (5.21 MB)\n"
      ]
     },
     "metadata": {},
     "output_type": "display_data"
    },
    {
     "data": {
      "text/html": [
       "<pre style=\"white-space:pre;overflow-x:auto;line-height:normal;font-family:Menlo,'DejaVu Sans Mono',consolas,'Courier New',monospace\"><span style=\"font-weight: bold\"> Trainable params: </span><span style=\"color: #00af00; text-decoration-color: #00af00\">1,365,924</span> (5.21 MB)\n",
       "</pre>\n"
      ],
      "text/plain": [
       "\u001b[1m Trainable params: \u001b[0m\u001b[38;5;34m1,365,924\u001b[0m (5.21 MB)\n"
      ]
     },
     "metadata": {},
     "output_type": "display_data"
    },
    {
     "data": {
      "text/html": [
       "<pre style=\"white-space:pre;overflow-x:auto;line-height:normal;font-family:Menlo,'DejaVu Sans Mono',consolas,'Courier New',monospace\"><span style=\"font-weight: bold\"> Non-trainable params: </span><span style=\"color: #00af00; text-decoration-color: #00af00\">0</span> (0.00 B)\n",
       "</pre>\n"
      ],
      "text/plain": [
       "\u001b[1m Non-trainable params: \u001b[0m\u001b[38;5;34m0\u001b[0m (0.00 B)\n"
      ]
     },
     "metadata": {},
     "output_type": "display_data"
    }
   ],
   "source": [
    "from tensorflow.keras import layers, models\n",
    "\n",
    "model = models.Sequential([\n",
    "    layers.Conv2D(32, (3,3), activation='relu', padding='same', input_shape=(128,128,3)),\n",
    "    layers.MaxPooling2D((2,2)),\n",
    "\n",
    "    layers.Conv2D(64, (3,3), activation='relu', padding='same'),\n",
    "    layers.MaxPooling2D((2,2)),\n",
    "\n",
    "    layers.Conv2D(128, (3,3), activation='relu', padding='same'),\n",
    "    layers.MaxPooling2D((2,2)),\n",
    "\n",
    "    layers.Conv2D(256, (3,3), activation='relu', padding='same'),\n",
    "    layers.MaxPooling2D((2,2)),\n",
    "\n",
    "    layers.Conv2D(256, (3,3), activation='relu', padding='same'),\n",
    "    layers.UpSampling2D((2,2)),  # Upsample back\n",
    "\n",
    "    layers.Conv2D(128, (3,3), activation='relu', padding='same'),\n",
    "    layers.UpSampling2D((2,2)),\n",
    "\n",
    "    layers.Conv2D(64, (3,3), activation='relu', padding='same'),\n",
    "    layers.UpSampling2D((2,2)),\n",
    "\n",
    "    layers.Conv2D(32, (3,3), activation='relu', padding='same'),\n",
    "    layers.UpSampling2D((2,2)),\n",
    "\n",
    "    layers.Conv2D(4, (1,1), activation='softmax')  # Output 4 classes per pixel\n",
    "])\n",
    "\n",
    "# Compile model\n",
    "model.compile(optimizer='adam', loss='categorical_crossentropy', metrics=['accuracy'])\n",
    "\n",
    "# Print model summary\n",
    "model.summary()"
   ]
  },
  {
   "cell_type": "markdown",
   "id": "154e4ce9-27a4-4bae-968e-ccc8c6c0eb6c",
   "metadata": {},
   "source": [
    "### Fit the Model"
   ]
  },
  {
   "cell_type": "code",
   "execution_count": 14,
   "id": "151de709-3382-45a8-a977-e3b0790844fa",
   "metadata": {
    "scrolled": true
   },
   "outputs": [
    {
     "name": "stdout",
     "output_type": "stream",
     "text": [
      "Epoch 1/150\n",
      "\u001b[1m8/8\u001b[0m \u001b[32m━━━━━━━━━━━━━━━━━━━━\u001b[0m\u001b[37m\u001b[0m \u001b[1m5s\u001b[0m 317ms/step - accuracy: 0.4787 - loss: 1.3025 - val_accuracy: 0.3008 - val_loss: 1.1427\n",
      "Epoch 2/150\n",
      "\u001b[1m8/8\u001b[0m \u001b[32m━━━━━━━━━━━━━━━━━━━━\u001b[0m\u001b[37m\u001b[0m \u001b[1m2s\u001b[0m 265ms/step - accuracy: 0.4434 - loss: 1.1416 - val_accuracy: 0.5619 - val_loss: 1.1117\n",
      "Epoch 3/150\n",
      "\u001b[1m8/8\u001b[0m \u001b[32m━━━━━━━━━━━━━━━━━━━━\u001b[0m\u001b[37m\u001b[0m \u001b[1m2s\u001b[0m 263ms/step - accuracy: 0.5294 - loss: 1.1080 - val_accuracy: 0.5604 - val_loss: 1.0781\n",
      "Epoch 4/150\n",
      "\u001b[1m8/8\u001b[0m \u001b[32m━━━━━━━━━━━━━━━━━━━━\u001b[0m\u001b[37m\u001b[0m \u001b[1m2s\u001b[0m 265ms/step - accuracy: 0.5289 - loss: 1.0961 - val_accuracy: 0.5619 - val_loss: 1.0755\n",
      "Epoch 5/150\n",
      "\u001b[1m8/8\u001b[0m \u001b[32m━━━━━━━━━━━━━━━━━━━━\u001b[0m\u001b[37m\u001b[0m \u001b[1m2s\u001b[0m 264ms/step - accuracy: 0.5294 - loss: 1.0890 - val_accuracy: 0.5619 - val_loss: 1.0691\n",
      "Epoch 6/150\n",
      "\u001b[1m8/8\u001b[0m \u001b[32m━━━━━━━━━━━━━━━━━━━━\u001b[0m\u001b[37m\u001b[0m \u001b[1m2s\u001b[0m 264ms/step - accuracy: 0.5294 - loss: 1.0839 - val_accuracy: 0.5619 - val_loss: 1.0626\n",
      "Epoch 7/150\n",
      "\u001b[1m8/8\u001b[0m \u001b[32m━━━━━━━━━━━━━━━━━━━━\u001b[0m\u001b[37m\u001b[0m \u001b[1m2s\u001b[0m 265ms/step - accuracy: 0.5294 - loss: 1.0736 - val_accuracy: 0.5619 - val_loss: 1.0508\n",
      "Epoch 8/150\n",
      "\u001b[1m8/8\u001b[0m \u001b[32m━━━━━━━━━━━━━━━━━━━━\u001b[0m\u001b[37m\u001b[0m \u001b[1m2s\u001b[0m 276ms/step - accuracy: 0.5294 - loss: 1.0699 - val_accuracy: 0.5619 - val_loss: 1.0425\n",
      "Epoch 9/150\n",
      "\u001b[1m8/8\u001b[0m \u001b[32m━━━━━━━━━━━━━━━━━━━━\u001b[0m\u001b[37m\u001b[0m \u001b[1m2s\u001b[0m 266ms/step - accuracy: 0.5294 - loss: 1.0533 - val_accuracy: 0.5619 - val_loss: 1.0260\n",
      "Epoch 10/150\n",
      "\u001b[1m8/8\u001b[0m \u001b[32m━━━━━━━━━━━━━━━━━━━━\u001b[0m\u001b[37m\u001b[0m \u001b[1m2s\u001b[0m 273ms/step - accuracy: 0.5294 - loss: 1.0380 - val_accuracy: 0.5619 - val_loss: 1.1115\n",
      "Epoch 11/150\n",
      "\u001b[1m8/8\u001b[0m \u001b[32m━━━━━━━━━━━━━━━━━━━━\u001b[0m\u001b[37m\u001b[0m \u001b[1m2s\u001b[0m 271ms/step - accuracy: 0.5268 - loss: 1.1071 - val_accuracy: 0.5450 - val_loss: 1.0771\n",
      "Epoch 12/150\n",
      "\u001b[1m8/8\u001b[0m \u001b[32m━━━━━━━━━━━━━━━━━━━━\u001b[0m\u001b[37m\u001b[0m \u001b[1m2s\u001b[0m 264ms/step - accuracy: 0.5269 - loss: 1.0868 - val_accuracy: 0.5619 - val_loss: 1.0456\n",
      "Epoch 13/150\n",
      "\u001b[1m8/8\u001b[0m \u001b[32m━━━━━━━━━━━━━━━━━━━━\u001b[0m\u001b[37m\u001b[0m \u001b[1m2s\u001b[0m 266ms/step - accuracy: 0.5294 - loss: 1.0684 - val_accuracy: 0.5619 - val_loss: 1.0431\n",
      "Epoch 14/150\n",
      "\u001b[1m8/8\u001b[0m \u001b[32m━━━━━━━━━━━━━━━━━━━━\u001b[0m\u001b[37m\u001b[0m \u001b[1m2s\u001b[0m 263ms/step - accuracy: 0.5294 - loss: 1.0348 - val_accuracy: 0.5619 - val_loss: 0.9897\n",
      "Epoch 15/150\n",
      "\u001b[1m8/8\u001b[0m \u001b[32m━━━━━━━━━━━━━━━━━━━━\u001b[0m\u001b[37m\u001b[0m \u001b[1m2s\u001b[0m 268ms/step - accuracy: 0.5304 - loss: 1.0077 - val_accuracy: 0.5788 - val_loss: 0.9806\n",
      "Epoch 16/150\n",
      "\u001b[1m8/8\u001b[0m \u001b[32m━━━━━━━━━━━━━━━━━━━━\u001b[0m\u001b[37m\u001b[0m \u001b[1m2s\u001b[0m 265ms/step - accuracy: 0.5556 - loss: 0.9748 - val_accuracy: 0.5767 - val_loss: 0.9351\n",
      "Epoch 17/150\n",
      "\u001b[1m8/8\u001b[0m \u001b[32m━━━━━━━━━━━━━━━━━━━━\u001b[0m\u001b[37m\u001b[0m \u001b[1m2s\u001b[0m 266ms/step - accuracy: 0.5435 - loss: 0.9779 - val_accuracy: 0.5872 - val_loss: 0.9643\n",
      "Epoch 18/150\n",
      "\u001b[1m8/8\u001b[0m \u001b[32m━━━━━━━━━━━━━━━━━━━━\u001b[0m\u001b[37m\u001b[0m \u001b[1m2s\u001b[0m 264ms/step - accuracy: 0.5915 - loss: 0.9159 - val_accuracy: 0.6192 - val_loss: 0.9220\n",
      "Epoch 19/150\n",
      "\u001b[1m8/8\u001b[0m \u001b[32m━━━━━━━━━━━━━━━━━━━━\u001b[0m\u001b[37m\u001b[0m \u001b[1m2s\u001b[0m 266ms/step - accuracy: 0.6158 - loss: 0.8786 - val_accuracy: 0.6477 - val_loss: 0.8476\n",
      "Epoch 20/150\n",
      "\u001b[1m8/8\u001b[0m \u001b[32m━━━━━━━━━━━━━━━━━━━━\u001b[0m\u001b[37m\u001b[0m \u001b[1m2s\u001b[0m 265ms/step - accuracy: 0.6579 - loss: 0.7941 - val_accuracy: 0.6424 - val_loss: 0.8988\n",
      "Epoch 21/150\n",
      "\u001b[1m8/8\u001b[0m \u001b[32m━━━━━━━━━━━━━━━━━━━━\u001b[0m\u001b[37m\u001b[0m \u001b[1m2s\u001b[0m 265ms/step - accuracy: 0.7076 - loss: 0.7186 - val_accuracy: 0.6125 - val_loss: 0.9159\n",
      "Epoch 22/150\n",
      "\u001b[1m8/8\u001b[0m \u001b[32m━━━━━━━━━━━━━━━━━━━━\u001b[0m\u001b[37m\u001b[0m \u001b[1m2s\u001b[0m 265ms/step - accuracy: 0.7303 - loss: 0.6590 - val_accuracy: 0.5964 - val_loss: 0.9712\n",
      "Epoch 23/150\n",
      "\u001b[1m8/8\u001b[0m \u001b[32m━━━━━━━━━━━━━━━━━━━━\u001b[0m\u001b[37m\u001b[0m \u001b[1m2s\u001b[0m 264ms/step - accuracy: 0.7595 - loss: 0.5926 - val_accuracy: 0.6616 - val_loss: 0.8362\n",
      "Epoch 24/150\n",
      "\u001b[1m8/8\u001b[0m \u001b[32m━━━━━━━━━━━━━━━━━━━━\u001b[0m\u001b[37m\u001b[0m \u001b[1m2s\u001b[0m 264ms/step - accuracy: 0.7874 - loss: 0.5348 - val_accuracy: 0.6037 - val_loss: 0.9746\n",
      "Epoch 25/150\n",
      "\u001b[1m8/8\u001b[0m \u001b[32m━━━━━━━━━━━━━━━━━━━━\u001b[0m\u001b[37m\u001b[0m \u001b[1m2s\u001b[0m 265ms/step - accuracy: 0.7885 - loss: 0.5293 - val_accuracy: 0.6010 - val_loss: 0.9797\n",
      "Epoch 26/150\n",
      "\u001b[1m8/8\u001b[0m \u001b[32m━━━━━━━━━━━━━━━━━━━━\u001b[0m\u001b[37m\u001b[0m \u001b[1m2s\u001b[0m 266ms/step - accuracy: 0.7611 - loss: 0.5899 - val_accuracy: 0.5916 - val_loss: 0.9736\n",
      "Epoch 27/150\n",
      "\u001b[1m8/8\u001b[0m \u001b[32m━━━━━━━━━━━━━━━━━━━━\u001b[0m\u001b[37m\u001b[0m \u001b[1m2s\u001b[0m 263ms/step - accuracy: 0.7602 - loss: 0.5855 - val_accuracy: 0.5959 - val_loss: 1.0395\n",
      "Epoch 28/150\n",
      "\u001b[1m8/8\u001b[0m \u001b[32m━━━━━━━━━━━━━━━━━━━━\u001b[0m\u001b[37m\u001b[0m \u001b[1m2s\u001b[0m 263ms/step - accuracy: 0.8019 - loss: 0.4935 - val_accuracy: 0.5909 - val_loss: 1.0812\n",
      "Epoch 29/150\n",
      "\u001b[1m8/8\u001b[0m \u001b[32m━━━━━━━━━━━━━━━━━━━━\u001b[0m\u001b[37m\u001b[0m \u001b[1m2s\u001b[0m 264ms/step - accuracy: 0.8198 - loss: 0.4502 - val_accuracy: 0.6118 - val_loss: 0.9973\n",
      "Epoch 30/150\n",
      "\u001b[1m8/8\u001b[0m \u001b[32m━━━━━━━━━━━━━━━━━━━━\u001b[0m\u001b[37m\u001b[0m \u001b[1m2s\u001b[0m 262ms/step - accuracy: 0.8284 - loss: 0.4320 - val_accuracy: 0.6041 - val_loss: 0.9422\n",
      "Epoch 31/150\n",
      "\u001b[1m8/8\u001b[0m \u001b[32m━━━━━━━━━━━━━━━━━━━━\u001b[0m\u001b[37m\u001b[0m \u001b[1m2s\u001b[0m 263ms/step - accuracy: 0.8418 - loss: 0.3933 - val_accuracy: 0.6266 - val_loss: 0.9555\n",
      "Epoch 32/150\n",
      "\u001b[1m8/8\u001b[0m \u001b[32m━━━━━━━━━━━━━━━━━━━━\u001b[0m\u001b[37m\u001b[0m \u001b[1m2s\u001b[0m 264ms/step - accuracy: 0.8557 - loss: 0.3595 - val_accuracy: 0.6377 - val_loss: 0.9310\n",
      "Epoch 33/150\n",
      "\u001b[1m8/8\u001b[0m \u001b[32m━━━━━━━━━━━━━━━━━━━━\u001b[0m\u001b[37m\u001b[0m \u001b[1m2s\u001b[0m 265ms/step - accuracy: 0.8680 - loss: 0.3312 - val_accuracy: 0.5999 - val_loss: 1.0906\n",
      "Epoch 34/150\n",
      "\u001b[1m8/8\u001b[0m \u001b[32m━━━━━━━━━━━━━━━━━━━━\u001b[0m\u001b[37m\u001b[0m \u001b[1m2s\u001b[0m 265ms/step - accuracy: 0.8751 - loss: 0.3104 - val_accuracy: 0.6439 - val_loss: 1.0686\n",
      "Epoch 35/150\n",
      "\u001b[1m8/8\u001b[0m \u001b[32m━━━━━━━━━━━━━━━━━━━━\u001b[0m\u001b[37m\u001b[0m \u001b[1m2s\u001b[0m 265ms/step - accuracy: 0.8862 - loss: 0.2799 - val_accuracy: 0.6150 - val_loss: 1.1268\n",
      "Epoch 36/150\n",
      "\u001b[1m8/8\u001b[0m \u001b[32m━━━━━━━━━━━━━━━━━━━━\u001b[0m\u001b[37m\u001b[0m \u001b[1m2s\u001b[0m 264ms/step - accuracy: 0.8877 - loss: 0.2760 - val_accuracy: 0.6285 - val_loss: 1.1560\n",
      "Epoch 37/150\n",
      "\u001b[1m8/8\u001b[0m \u001b[32m━━━━━━━━━━━━━━━━━━━━\u001b[0m\u001b[37m\u001b[0m \u001b[1m2s\u001b[0m 265ms/step - accuracy: 0.8940 - loss: 0.2595 - val_accuracy: 0.6358 - val_loss: 1.0620\n",
      "Epoch 38/150\n",
      "\u001b[1m8/8\u001b[0m \u001b[32m━━━━━━━━━━━━━━━━━━━━\u001b[0m\u001b[37m\u001b[0m \u001b[1m2s\u001b[0m 268ms/step - accuracy: 0.9060 - loss: 0.2296 - val_accuracy: 0.6427 - val_loss: 1.3663\n"
     ]
    }
   ],
   "source": [
    "# Enable early stopping\n",
    "early_stopping = EarlyStopping(monitor='val_loss', patience=15, restore_best_weights=True)\n",
    "\n",
    "# Fit the model\n",
    "history = model.fit(X_train, Y_train, \n",
    "                    validation_data=(X_test, Y_test),\n",
    "                    epochs=epochs, batch_size=32, \n",
    "                    callbacks=[early_stopping],\n",
    "                   )"
   ]
  },
  {
   "cell_type": "markdown",
   "id": "237e7bf6-de36-42e5-951e-9b4cb49efb6b",
   "metadata": {},
   "source": [
    "### Evaluate Accuracy"
   ]
  },
  {
   "cell_type": "code",
   "execution_count": 15,
   "id": "e0104cb7-d43e-45c2-96b1-30590f4451f5",
   "metadata": {},
   "outputs": [
    {
     "data": {
      "image/png": "[encoded data removed]",
      "text/plain": [
       "<Figure size 1000x500 with 2 Axes>"
      ]
     },
     "metadata": {},
     "output_type": "display_data"
    }
   ],
   "source": [
    "# Plot training loss & accuracy\n",
    "plt.figure(figsize=(10, 5))\n",
    "plt.subplot(1, 2, 1)\n",
    "plt.plot(history.history['loss'], label='Loss')\n",
    "plt.plot(history.history['val_loss'], label='Val Loss')\n",
    "plt.legend()\n",
    "plt.title(\"Loss\")\n",
    "\n",
    "plt.subplot(1, 2, 2)\n",
    "plt.plot(history.history['accuracy'], label='Accuracy')\n",
    "plt.plot(history.history['val_accuracy'], label='Val Accuracy')\n",
    "plt.legend()\n",
    "plt.title(\"Accuracy\")\n",
    "\n",
    "plt.show()"
   ]
  },
  {
   "cell_type": "markdown",
   "id": "54258c16-0177-433e-8874-94bbda3f7ed2",
   "metadata": {},
   "source": [
    "## Predict the Image"
   ]
  },
  {
   "cell_type": "markdown",
   "id": "ccad0b27-18a5-4969-945b-b2b0beb1b4f3",
   "metadata": {},
   "source": [
    "### Full Image Preprocessing"
   ]
  },
  {
   "cell_type": "code",
   "execution_count": 16,
   "id": "46bbc6a2-c199-40ab-8c72-87052ab83f1f",
   "metadata": {},
   "outputs": [
    {
     "name": "stdout",
     "output_type": "stream",
     "text": [
      "Full Image shape: (1280, 1536, 3)\n",
      "Patched Image shape: (37, 45, 1, 128, 128, 3)\n",
      "Reshaped for Model shape: (1665, 128, 128, 3)\n"
     ]
    }
   ],
   "source": [
    "full_image_reshaped = reshape_as_image(full_image)\n",
    "print(\"Full Image shape:\", full_image_reshaped.shape)  \n",
    "\n",
    "# Turn full image into patches to be predicted (same size and step as before)\n",
    "patches_full = patchify(full_image_reshaped, (patch_size, patch_size, 3), step=patch_step)\n",
    "patches_full_x, patches_full_y = patches_full.shape[0:2]\n",
    "\n",
    "# Turn 2D array of patches into one list of patches i.e. (num_patches, patch_size, patch_size, bands)\n",
    "patches_full_reshaped = patches_full.reshape(-1, patch_size, patch_size, 3)\n",
    "print(\"Reshaped for Model shape:\", patches_full_reshaped.shape)  "
   ]
  },
  {
   "cell_type": "markdown",
   "id": "193e7f26-7f05-4c6b-968f-badc67ab6f0e",
   "metadata": {},
   "source": [
    "### Full Image Prediction"
   ]
  },
  {
   "cell_type": "code",
   "execution_count": null,
   "id": "9785f607-28d1-4609-81d4-e02a838eb9dc",
   "metadata": {},
   "outputs": [
    {
     "name": "stdout",
     "output_type": "stream",
     "text": [
      "\u001b[1m53/53\u001b[0m \u001b[32m━━━━━━━━━━━━━━━━━━━━\u001b[0m\u001b[37m\u001b[0m \u001b[1m4s\u001b[0m 82ms/step\n",
      "Predictions shape: (1665, 128, 128, 4)\n"
     ]
    }
   ],
   "source": [
    "# Predict the full image\n",
    "predictions = model.predict(patches_full_reshaped)\n",
    "print(\"Predictions shape:\", predictions.shape) \n",
    "\n",
    "predictions = predictions.reshape(patches_full.shape[0], patches_full.shape[1], patch_size, patch_size, -1)\n",
    "\n",
    "predicted_classes = np.argmax(predictions, axis=-1)\n",
    "\n",
    "## BLENDING MATRIX IMPLEMENTATION\n",
    "# Initialize accumulation and weight matrices\n",
    "full_prediction = np.zeros((patches_full_x * patch_step + patch_size, \n",
    "                            patches_full_y * patch_step + patch_size), dtype=np.float32)\n",
    "weight_matrix = np.zeros_like(full_prediction, dtype=np.float32)\n",
    "\n",
    "# Blend patches\n",
    "for i in range(patches_full_x):\n",
    "    for j in range(patches_full_y):\n",
    "        x_start = i * patch_step\n",
    "        x_end = x_start + patch_size\n",
    "        y_start = j * patch_step\n",
    "        y_end = y_start + patch_size\n",
    "        \n",
    "        full_prediction[x_start:x_end, y_start:y_end] += predicted_classes[i, j]\n",
    "        weight_matrix[x_start:x_end, y_start:y_end] += 1  # Track contributions\n",
    "\n",
    "# Normalize by the number of times each pixel was predicted\n",
    "full_prediction /= weight_matrix\n",
    "full_prediction = full_prediction.astype(np.uint8)\n",
    "\n",
    "rasterio.plot.show(full_image)\n",
    "rasterio.plot.show(full_prediction)\n",
    "\n",
    "print(f\"Training size: {labels_classes_raw.shape}\\nPrediction size: {full_prediction.shape}\\nPatch size: {patch_size}\\nPatch step: {patch_step}\\nAugmented: {percent_augment*100}%\")"
   ]
  }
 ],
 "metadata": {
  "kernelspec": {
   "display_name": "Python 3 (ipykernel)",
   "language": "python",
   "name": "python3"
  },
  "language_info": {
   "codemirror_mode": {
    "name": "ipython",
    "version": 3
   },
   "file_extension": ".py",
   "mimetype": "text/x-python",
   "name": "python",
   "nbconvert_exporter": "python",
   "pygments_lexer": "ipython3",
   "version": "3.12.8"
  }
 },
 "nbformat": 4,
 "nbformat_minor": 5
}
